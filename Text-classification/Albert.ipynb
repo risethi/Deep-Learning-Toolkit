{
 "cells": [
  {
   "cell_type": "markdown",
   "metadata": {
    "_cell_guid": "b1076dfc-b9ad-4769-8c92-a6c4dae69d19",
    "_uuid": "8f2839f25d086af736a60e9eeb907d3b93b6e0e5",
    "id": "-O_Fo5y8rQ8d"
   },
   "source": [
    "# Finetuning a pretrained BERT model for IMDB dataset\n",
    "## This notebook outlines the concepts behind finetuning an already existing pretrained BERT model for a Sentence Classification problem using IMDB dataset"
   ]
  },
  {
   "cell_type": "markdown",
   "metadata": {
    "id": "iCEXeN1jr1VX"
   },
   "source": [
    "### Import the Transformers library"
   ]
  },
  {
   "cell_type": "code",
   "execution_count": 1,
   "metadata": {
    "execution": {
     "iopub.execute_input": "2022-06-04T10:17:26.327373Z",
     "iopub.status.busy": "2022-06-04T10:17:26.323926Z",
     "iopub.status.idle": "2022-06-04T10:17:37.952926Z",
     "shell.execute_reply": "2022-06-04T10:17:37.951896Z",
     "shell.execute_reply.started": "2022-06-04T10:17:26.327259Z"
    },
    "id": "iXsLJR9ir5W0",
    "outputId": "f6f71a12-4913-4218-fc6b-ada1344909d4"
   },
   "outputs": [],
   "source": [
    "! pip install transformers"
   ]
  },
  {
   "cell_type": "markdown",
   "metadata": {
    "id": "jlEAvtMWrQ8g"
   },
   "source": [
    "### Import the datasets library"
   ]
  },
  {
   "cell_type": "code",
   "execution_count": 2,
   "metadata": {
    "execution": {
     "iopub.execute_input": "2022-06-04T10:17:37.955293Z",
     "iopub.status.busy": "2022-06-04T10:17:37.954879Z",
     "iopub.status.idle": "2022-06-04T10:17:47.419614Z",
     "shell.execute_reply": "2022-06-04T10:17:47.418640Z",
     "shell.execute_reply.started": "2022-06-04T10:17:37.955250Z"
    },
    "id": "ZcWAE07HrbKP",
    "outputId": "972d4e7e-4e41-4a8d-8cca-dcd80d169708"
   },
   "outputs": [],
   "source": [
    "! pip install datasets"
   ]
  },
  {
   "cell_type": "code",
   "execution_count": 3,
   "metadata": {
    "execution": {
     "iopub.execute_input": "2022-06-04T10:17:47.423018Z",
     "iopub.status.busy": "2022-06-04T10:17:47.422694Z",
     "iopub.status.idle": "2022-06-04T10:17:53.753756Z",
     "shell.execute_reply": "2022-06-04T10:17:53.752974Z",
     "shell.execute_reply.started": "2022-06-04T10:17:47.422989Z"
    },
    "id": "lYypA-S9rQ8g"
   },
   "outputs": [],
   "source": [
    "from datasets import load_dataset"
   ]
  },
  {
   "cell_type": "markdown",
   "metadata": {
    "id": "QFhd9aUhrQ8h"
   },
   "source": [
    "### Load the IMDB dataset"
   ]
  },
  {
   "cell_type": "code",
   "execution_count": 4,
   "metadata": {
    "execution": {
     "iopub.execute_input": "2022-06-04T10:17:53.756613Z",
     "iopub.status.busy": "2022-06-04T10:17:53.755758Z",
     "iopub.status.idle": "2022-06-04T10:18:28.712340Z",
     "shell.execute_reply": "2022-06-04T10:18:28.711476Z",
     "shell.execute_reply.started": "2022-06-04T10:17:53.756554Z"
    },
    "id": "xP3KNLHjrQ8h",
    "outputId": "58d33ee8-f845-4951-9330-13bdb1f40d9d"
   },
   "outputs": [],
   "source": [
    "raw_datasets = load_dataset(\"imdb\")"
   ]
  },
  {
   "cell_type": "code",
   "execution_count": 5,
   "metadata": {
    "execution": {
     "iopub.execute_input": "2022-06-04T10:18:28.714505Z",
     "iopub.status.busy": "2022-06-04T10:18:28.713904Z",
     "iopub.status.idle": "2022-06-04T10:18:28.724297Z",
     "shell.execute_reply": "2022-06-04T10:18:28.723501Z",
     "shell.execute_reply.started": "2022-06-04T10:18:28.714468Z"
    },
    "id": "tOQCZzZRrQ8h",
    "outputId": "d6ce5f2c-c802-460e-a078-93b781532ace"
   },
   "outputs": [],
   "source": [
    "raw_datasets"
   ]
  },
  {
   "cell_type": "markdown",
   "metadata": {
    "id": "6EpKq2tgrQ8h"
   },
   "source": [
    "The **raw_datasets** object is a dictionary with three keys: \n",
    "- \"train\"\n",
    "- \"test\"\n",
    "- \"unsupervised\" (which correspond to the three splits of that dataset)\n",
    "\n",
    "Use the \"train\" split for training and the \"test\" split for validation"
   ]
  },
  {
   "cell_type": "markdown",
   "metadata": {
    "id": "2UI6GKRxrQ8i"
   },
   "source": [
    "### Import Tokenizer"
   ]
  },
  {
   "cell_type": "code",
   "execution_count": 6,
   "metadata": {
    "execution": {
     "iopub.execute_input": "2022-06-04T10:18:28.730320Z",
     "iopub.status.busy": "2022-06-04T10:18:28.729711Z",
     "iopub.status.idle": "2022-06-04T10:18:29.192661Z",
     "shell.execute_reply": "2022-06-04T10:18:29.191864Z",
     "shell.execute_reply.started": "2022-06-04T10:18:28.730273Z"
    },
    "id": "i4es7ILPrQ8i"
   },
   "outputs": [],
   "source": [
    "from transformers import AutoTokenizer"
   ]
  },
  {
   "cell_type": "markdown",
   "metadata": {
    "id": "VwVWNx6trQ8i"
   },
   "source": [
    "### Create a BERT tokenizer\n",
    "- Use **bert-base-cased**"
   ]
  },
  {
   "cell_type": "code",
   "execution_count": 7,
   "metadata": {
    "execution": {
     "iopub.execute_input": "2022-06-04T10:18:29.194423Z",
     "iopub.status.busy": "2022-06-04T10:18:29.194090Z",
     "iopub.status.idle": "2022-06-04T10:18:30.873857Z",
     "shell.execute_reply": "2022-06-04T10:18:30.872967Z",
     "shell.execute_reply.started": "2022-06-04T10:18:29.194388Z"
    },
    "id": "_5BDbzNBrQ8i",
    "outputId": "43a74725-5245-4597-e863-985751840816"
   },
   "outputs": [],
   "source": [
    "tokenizer = AutoTokenizer.from_pretrained(\"albert-base-v2\")"
   ]
  },
  {
   "cell_type": "markdown",
   "metadata": {
    "id": "dnApitTsrQ8i"
   },
   "source": [
    "### Preprocess the input data for the model\n",
    "Ex: inputs = tokenizer(sentences, padding=\"max_length\", truncation=True)"
   ]
  },
  {
   "cell_type": "markdown",
   "metadata": {
    "id": "3KJYlRvxrQ8j"
   },
   "source": [
    "### tokenize_function"
   ]
  },
  {
   "cell_type": "code",
   "execution_count": 8,
   "metadata": {
    "execution": {
     "iopub.execute_input": "2022-06-04T10:18:30.875721Z",
     "iopub.status.busy": "2022-06-04T10:18:30.875324Z",
     "iopub.status.idle": "2022-06-04T10:18:30.881096Z",
     "shell.execute_reply": "2022-06-04T10:18:30.880263Z",
     "shell.execute_reply.started": "2022-06-04T10:18:30.875684Z"
    },
    "id": "z2CO6OCdrQ8j"
   },
   "outputs": [],
   "source": [
    "def tokenize_function(examples):\n",
    "    return tokenizer(examples[\"text\"], padding=\"max_length\", truncation=True)"
   ]
  },
  {
   "cell_type": "code",
   "execution_count": 9,
   "metadata": {
    "execution": {
     "iopub.execute_input": "2022-06-04T10:18:30.883296Z",
     "iopub.status.busy": "2022-06-04T10:18:30.882414Z",
     "iopub.status.idle": "2022-06-04T10:20:44.856798Z",
     "shell.execute_reply": "2022-06-04T10:20:44.855818Z",
     "shell.execute_reply.started": "2022-06-04T10:18:30.883259Z"
    },
    "id": "lu4XLITerQ8j",
    "outputId": "3449c3e6-0ae4-4426-b273-1d2fc0296abb"
   },
   "outputs": [],
   "source": [
    "tokenized_datasets = raw_datasets.map(tokenize_function, batched=True)"
   ]
  },
  {
   "cell_type": "markdown",
   "metadata": {},
   "source": [
    "# Run the following commented cells only if you have higher GPU memory"
   ]
  },
  {
   "cell_type": "markdown",
   "metadata": {
    "id": "oNPDLDp_rQ8j"
   },
   "source": [
    "### Generate a small version dataset (1000 samples) with sampling "
   ]
  },
  {
   "cell_type": "code",
   "execution_count": 10,
   "metadata": {
    "execution": {
     "iopub.execute_input": "2022-06-04T10:20:44.861632Z",
     "iopub.status.busy": "2022-06-04T10:20:44.861304Z",
     "iopub.status.idle": "2022-06-04T10:20:44.992580Z",
     "shell.execute_reply": "2022-06-04T10:20:44.991649Z",
     "shell.execute_reply.started": "2022-06-04T10:20:44.861594Z"
    },
    "id": "18ZHOiRNrQ8j"
   },
   "outputs": [],
   "source": [
    "small_train_dataset = tokenized_datasets[\"train\"].shuffle(seed=42).select(range(1000))\n",
    "small_eval_dataset = tokenized_datasets[\"test\"].shuffle(seed=42).select(range(1000))\n",
    "full_train_dataset = tokenized_datasets[\"train\"]\n",
    "full_eval_dataset = tokenized_datasets[\"test\"]"
   ]
  },
  {
   "cell_type": "code",
   "execution_count": 11,
   "metadata": {
    "execution": {
     "iopub.execute_input": "2022-06-04T10:20:44.996763Z",
     "iopub.status.busy": "2022-06-04T10:20:44.995932Z",
     "iopub.status.idle": "2022-06-04T10:20:45.101665Z",
     "shell.execute_reply": "2022-06-04T10:20:45.100524Z",
     "shell.execute_reply.started": "2022-06-04T10:20:44.996734Z"
    },
    "id": "FrHjmUS9sRS_",
    "outputId": "8cec9301-6f7b-44e1-9139-3f9bf7cee151"
   },
   "outputs": [],
   "source": [
    "len(small_train_dataset), len(small_eval_dataset), len(full_train_dataset), len(full_eval_dataset)"
   ]
  },
  {
   "cell_type": "markdown",
   "metadata": {
    "id": "XHcJGqF4rQ8k"
   },
   "source": [
    "### Import the Model for Sequence Classification"
   ]
  },
  {
   "cell_type": "code",
   "execution_count": 12,
   "metadata": {
    "execution": {
     "iopub.execute_input": "2022-06-04T10:20:45.104778Z",
     "iopub.status.busy": "2022-06-04T10:20:45.103803Z",
     "iopub.status.idle": "2022-06-04T10:20:45.118697Z",
     "shell.execute_reply": "2022-06-04T10:20:45.117972Z",
     "shell.execute_reply.started": "2022-06-04T10:20:45.104734Z"
    },
    "id": "p7oVTxW2rQ8k"
   },
   "outputs": [],
   "source": [
    "from transformers import AutoModelForSequenceClassification"
   ]
  },
  {
   "cell_type": "markdown",
   "metadata": {
    "id": "1z2G4wc1rQ8l"
   },
   "source": [
    "### Create the model from pretrained version\n",
    "- Use **bert-base-cased**\n",
    "- Use **num_labels** as the number of target labels"
   ]
  },
  {
   "cell_type": "code",
   "execution_count": 13,
   "metadata": {
    "execution": {
     "iopub.execute_input": "2022-06-04T10:20:45.120537Z",
     "iopub.status.busy": "2022-06-04T10:20:45.120164Z",
     "iopub.status.idle": "2022-06-04T10:20:50.885891Z",
     "shell.execute_reply": "2022-06-04T10:20:50.884891Z",
     "shell.execute_reply.started": "2022-06-04T10:20:45.120502Z"
    },
    "id": "FMX0t9yLrQ8l",
    "outputId": "e392bfe9-ee45-406c-ca9b-68b0fc3bf6f1"
   },
   "outputs": [],
   "source": [
    "model = AutoModelForSequenceClassification.from_pretrained(\"albert-base-v2\", num_labels=2)"
   ]
  },
  {
   "cell_type": "markdown",
   "metadata": {
    "id": "6xUASjw9rQ8l"
   },
   "source": [
    "### Import the Trainer from transformers"
   ]
  },
  {
   "cell_type": "code",
   "execution_count": 14,
   "metadata": {
    "execution": {
     "iopub.execute_input": "2022-06-04T10:20:50.887993Z",
     "iopub.status.busy": "2022-06-04T10:20:50.887551Z",
     "iopub.status.idle": "2022-06-04T10:20:51.540890Z",
     "shell.execute_reply": "2022-06-04T10:20:51.536110Z",
     "shell.execute_reply.started": "2022-06-04T10:20:50.887941Z"
    },
    "id": "ptEIPBhrrQ8l"
   },
   "outputs": [],
   "source": [
    "from transformers import Trainer"
   ]
  },
  {
   "cell_type": "markdown",
   "metadata": {
    "id": "sBMXmP5drQ8l"
   },
   "source": [
    "### Import TrainingArguments"
   ]
  },
  {
   "cell_type": "code",
   "execution_count": 15,
   "metadata": {
    "execution": {
     "iopub.execute_input": "2022-06-04T10:20:51.546293Z",
     "iopub.status.busy": "2022-06-04T10:20:51.542224Z",
     "iopub.status.idle": "2022-06-04T10:20:51.557494Z",
     "shell.execute_reply": "2022-06-04T10:20:51.556297Z",
     "shell.execute_reply.started": "2022-06-04T10:20:51.546254Z"
    },
    "id": "SY7MYp-PrQ8l"
   },
   "outputs": [],
   "source": [
    "from transformers import TrainingArguments"
   ]
  },
  {
   "cell_type": "markdown",
   "metadata": {
    "id": "t4phyq_BrQ8m"
   },
   "source": [
    "### Specify TrainingArguments\n",
    "- Destination to store checkpoints\n",
    "- evaluation_strategy as **epoch**"
   ]
  },
  {
   "cell_type": "code",
   "execution_count": 16,
   "metadata": {
    "execution": {
     "iopub.execute_input": "2022-06-04T10:20:51.559247Z",
     "iopub.status.busy": "2022-06-04T10:20:51.558842Z",
     "iopub.status.idle": "2022-06-04T10:20:51.655632Z",
     "shell.execute_reply": "2022-06-04T10:20:51.654660Z",
     "shell.execute_reply.started": "2022-06-04T10:20:51.559213Z"
    },
    "id": "1k8EG4EnrQ8m"
   },
   "outputs": [],
   "source": [
    "training_args = TrainingArguments(\"test_trainer\")"
   ]
  },
  {
   "cell_type": "markdown",
   "metadata": {
    "id": "wYagVT-drQ8m"
   },
   "source": [
    "### Create a Trainer\n",
    "- model\n",
    "- training arguments\n",
    "- train dataset\n",
    "- eval dataset"
   ]
  },
  {
   "cell_type": "code",
   "execution_count": 17,
   "metadata": {
    "execution": {
     "iopub.execute_input": "2022-06-04T10:20:51.660871Z",
     "iopub.status.busy": "2022-06-04T10:20:51.660313Z",
     "iopub.status.idle": "2022-06-04T10:20:57.100556Z",
     "shell.execute_reply": "2022-06-04T10:20:57.099500Z",
     "shell.execute_reply.started": "2022-06-04T10:20:51.660834Z"
    },
    "id": "G3IelVkarQ8m"
   },
   "outputs": [],
   "source": [
    "trainer = Trainer(\n",
    "     model=model,\n",
    "     args=training_args,\n",
    "     train_dataset=full_train_dataset,\n",
    "     eval_dataset=full_eval_dataset\n",
    " )"
   ]
  },
  {
   "cell_type": "markdown",
   "metadata": {
    "id": "awVKbXR4rQ8m"
   },
   "source": [
    "### Train (Finetune) the model"
   ]
  },
  {
   "cell_type": "code",
   "execution_count": 18,
   "metadata": {
    "execution": {
     "iopub.execute_input": "2022-06-04T10:20:57.102554Z",
     "iopub.status.busy": "2022-06-04T10:20:57.102234Z",
     "iopub.status.idle": "2022-06-04T11:33:30.065230Z",
     "shell.execute_reply": "2022-06-04T11:33:30.063175Z",
     "shell.execute_reply.started": "2022-06-04T10:20:57.102519Z"
    },
    "id": "OnjJ6aQ8rQ8n",
    "outputId": "3dddeac2-a14d-4b93-b182-6b844a7d294a"
   },
   "outputs": [],
   "source": [
    "trainer.train()"
   ]
  },
  {
   "cell_type": "code",
   "execution_count": null,
   "metadata": {
    "id": "PvLWHT0dt6mw"
   },
   "outputs": [],
   "source": []
  },
  {
   "cell_type": "markdown",
   "metadata": {
    "id": "hftyrbi7rQ8n"
   },
   "source": [
    "### Import load_metric from datasets"
   ]
  },
  {
   "cell_type": "code",
   "execution_count": 19,
   "metadata": {
    "execution": {
     "iopub.execute_input": "2022-06-04T11:33:30.067882Z",
     "iopub.status.busy": "2022-06-04T11:33:30.067389Z",
     "iopub.status.idle": "2022-06-04T11:33:30.073136Z",
     "shell.execute_reply": "2022-06-04T11:33:30.072080Z",
     "shell.execute_reply.started": "2022-06-04T11:33:30.067845Z"
    },
    "id": "z5Koj_MqrQ8n"
   },
   "outputs": [],
   "source": [
    "import numpy as np\n",
    "from datasets import load_metric"
   ]
  },
  {
   "cell_type": "markdown",
   "metadata": {
    "id": "-5oFKB7srQ8n"
   },
   "source": [
    "### Load the Accuracy metric"
   ]
  },
  {
   "cell_type": "code",
   "execution_count": 20,
   "metadata": {
    "execution": {
     "iopub.execute_input": "2022-06-04T11:33:30.075536Z",
     "iopub.status.busy": "2022-06-04T11:33:30.074223Z",
     "iopub.status.idle": "2022-06-04T11:33:30.452476Z",
     "shell.execute_reply": "2022-06-04T11:33:30.451647Z",
     "shell.execute_reply.started": "2022-06-04T11:33:30.075498Z"
    },
    "id": "Ih--Xv4WrQ8n"
   },
   "outputs": [],
   "source": [
    "metric = load_metric(\"accuracy\")"
   ]
  },
  {
   "cell_type": "markdown",
   "metadata": {
    "id": "3fhUiIo5rQ8n"
   },
   "source": [
    "### compute_metrics() function"
   ]
  },
  {
   "cell_type": "code",
   "execution_count": 21,
   "metadata": {
    "execution": {
     "iopub.execute_input": "2022-06-04T11:33:30.454518Z",
     "iopub.status.busy": "2022-06-04T11:33:30.454088Z",
     "iopub.status.idle": "2022-06-04T11:33:30.460437Z",
     "shell.execute_reply": "2022-06-04T11:33:30.459648Z",
     "shell.execute_reply.started": "2022-06-04T11:33:30.454477Z"
    },
    "id": "6wtxL31trQ8n"
   },
   "outputs": [],
   "source": [
    "def compute_metrics(eval_pred):\n",
    "     logits, labels = eval_pred\n",
    "     predictions = np.argmax(logits, axis=-1)\n",
    "     return metric.compute(predictions=predictions, references=labels)"
   ]
  },
  {
   "cell_type": "markdown",
   "metadata": {
    "id": "8WvkHOsQrQ8o"
   },
   "source": [
    "### Trainer\n",
    "- Use compute_metrics as a hyperparameter"
   ]
  },
  {
   "cell_type": "code",
   "execution_count": 22,
   "metadata": {
    "execution": {
     "iopub.execute_input": "2022-06-04T11:33:30.462623Z",
     "iopub.status.busy": "2022-06-04T11:33:30.461867Z",
     "iopub.status.idle": "2022-06-04T11:33:30.480425Z",
     "shell.execute_reply": "2022-06-04T11:33:30.479623Z",
     "shell.execute_reply.started": "2022-06-04T11:33:30.462565Z"
    },
    "id": "-gxLaLo9rQ8o"
   },
   "outputs": [],
   "source": [
    "trainer = Trainer(\n",
    "     model=model,\n",
    "     args=training_args,\n",
    "     train_dataset=full_train_dataset,\n",
    "     eval_dataset=full_eval_dataset,\n",
    "     compute_metrics=compute_metrics,\n",
    ")"
   ]
  },
  {
   "cell_type": "markdown",
   "metadata": {
    "id": "57uzMPrhrQ8o"
   },
   "source": [
    "### Evaluate the finetuned model"
   ]
  },
  {
   "cell_type": "code",
   "execution_count": 23,
   "metadata": {
    "execution": {
     "iopub.execute_input": "2022-06-04T11:33:30.482429Z",
     "iopub.status.busy": "2022-06-04T11:33:30.482026Z",
     "iopub.status.idle": "2022-06-04T11:42:14.327541Z",
     "shell.execute_reply": "2022-06-04T11:42:14.326702Z",
     "shell.execute_reply.started": "2022-06-04T11:33:30.482392Z"
    },
    "id": "QtS40p2qrQ8o"
   },
   "outputs": [],
   "source": [
    "trainer.evaluate()"
   ]
  },
  {
   "cell_type": "markdown",
   "metadata": {
    "id": "YWQKcV4QrQ8o"
   },
   "source": [
    "### Clear Cache if you run into Cuda Out of Memory issues"
   ]
  },
  {
   "cell_type": "code",
   "execution_count": null,
   "metadata": {
    "execution": {
     "iopub.status.busy": "2022-06-04T11:42:14.695002Z",
     "iopub.status.idle": "2022-06-04T11:42:14.695907Z",
     "shell.execute_reply": "2022-06-04T11:42:14.695694Z",
     "shell.execute_reply.started": "2022-06-04T11:42:14.695668Z"
    },
    "id": "yAD9kKxhrQ8p"
   },
   "outputs": [],
   "source": [
    "import torch\n",
    "torch.cuda.empty_cache()"
   ]
  },
  {
   "cell_type": "markdown",
   "metadata": {},
   "source": [
    "### Preprocessing for DataLaoder"
   ]
  },
  {
   "cell_type": "code",
   "execution_count": null,
   "metadata": {
    "execution": {
     "iopub.status.busy": "2022-06-04T11:42:14.697235Z",
     "iopub.status.idle": "2022-06-04T11:42:14.697706Z",
     "shell.execute_reply": "2022-06-04T11:42:14.697485Z",
     "shell.execute_reply.started": "2022-06-04T11:42:14.697463Z"
    },
    "id": "aDIYiTicrQ8p"
   },
   "outputs": [],
   "source": [
    "tokenized_datasets = tokenized_datasets.remove_columns([\"text\"])\n",
    "tokenized_datasets = tokenized_datasets.rename_column(\"label\", \"labels\")\n",
    "tokenized_datasets.set_format(\"torch\")\n",
    "\n",
    "small_train_dataset = tokenized_datasets[\"train\"].shuffle(seed=42).select(range(1000))\n",
    "small_eval_dataset = tokenized_datasets[\"test\"].shuffle(seed=42).select(range(1000))"
   ]
  },
  {
   "cell_type": "markdown",
   "metadata": {},
   "source": [
    "### Create DataLoaders"
   ]
  },
  {
   "cell_type": "code",
   "execution_count": null,
   "metadata": {
    "execution": {
     "iopub.status.busy": "2022-06-04T11:42:14.699063Z",
     "iopub.status.idle": "2022-06-04T11:42:14.699681Z",
     "shell.execute_reply": "2022-06-04T11:42:14.699453Z",
     "shell.execute_reply.started": "2022-06-04T11:42:14.699429Z"
    },
    "id": "ZQmp1H9UvnvB"
   },
   "outputs": [],
   "source": [
    "from torch.utils.data import DataLoader\n",
    "\n",
    "train_dataloader = DataLoader(small_train_dataset, shuffle=True, batch_size=2)\n",
    "eval_dataloader = DataLoader(small_eval_dataset, batch_size=2)"
   ]
  },
  {
   "cell_type": "markdown",
   "metadata": {},
   "source": [
    "### Create the model"
   ]
  },
  {
   "cell_type": "code",
   "execution_count": null,
   "metadata": {
    "execution": {
     "iopub.status.busy": "2022-06-04T11:42:14.700736Z",
     "iopub.status.idle": "2022-06-04T11:42:14.701608Z",
     "shell.execute_reply": "2022-06-04T11:42:14.701377Z",
     "shell.execute_reply.started": "2022-06-04T11:42:14.701353Z"
    },
    "id": "EFzS9rk0vqrM",
    "outputId": "5f2c4a1d-29f5-4b27-a1ea-251204a26df2"
   },
   "outputs": [],
   "source": [
    "from transformers import AutoModelForSequenceClassification\n",
    "\n",
    "model = AutoModelForSequenceClassification.from_pretrained(\"bert-base-cased\", num_labels=2)"
   ]
  },
  {
   "cell_type": "markdown",
   "metadata": {},
   "source": [
    "### Optimizer"
   ]
  },
  {
   "cell_type": "code",
   "execution_count": null,
   "metadata": {
    "execution": {
     "iopub.status.busy": "2022-06-04T11:42:14.702843Z",
     "iopub.status.idle": "2022-06-04T11:42:14.703446Z",
     "shell.execute_reply": "2022-06-04T11:42:14.703224Z",
     "shell.execute_reply.started": "2022-06-04T11:42:14.703201Z"
    },
    "id": "lcDoe-Zivtqh"
   },
   "outputs": [],
   "source": [
    "from transformers import AdamW\n",
    "\n",
    "optimizer = AdamW(model.parameters(), lr=5e-5)"
   ]
  },
  {
   "cell_type": "markdown",
   "metadata": {},
   "source": [
    "### Scheduler"
   ]
  },
  {
   "cell_type": "code",
   "execution_count": null,
   "metadata": {
    "execution": {
     "iopub.status.busy": "2022-06-04T11:42:14.704879Z",
     "iopub.status.idle": "2022-06-04T11:42:14.705333Z",
     "shell.execute_reply": "2022-06-04T11:42:14.705132Z",
     "shell.execute_reply.started": "2022-06-04T11:42:14.705111Z"
    }
   },
   "outputs": [],
   "source": [
    "from transformers import get_scheduler\n",
    "\n",
    "num_epochs = 3\n",
    "num_training_steps = num_epochs * len(train_dataloader)\n",
    "lr_scheduler = get_scheduler(\n",
    "    \"linear\",\n",
    "    optimizer=optimizer,\n",
    "    num_warmup_steps=0,\n",
    "    num_training_steps=num_training_steps\n",
    ")"
   ]
  },
  {
   "cell_type": "markdown",
   "metadata": {},
   "source": [
    "### Check if GPU is available and send the model to the corresponding device"
   ]
  },
  {
   "cell_type": "code",
   "execution_count": null,
   "metadata": {
    "execution": {
     "iopub.status.busy": "2022-06-04T11:42:14.706619Z",
     "iopub.status.idle": "2022-06-04T11:42:14.707398Z",
     "shell.execute_reply": "2022-06-04T11:42:14.707153Z",
     "shell.execute_reply.started": "2022-06-04T11:42:14.707129Z"
    },
    "id": "DRMxq9akvyoS",
    "outputId": "0ad4ddc2-c3e4-4da3-c9e8-5762f2f0b556"
   },
   "outputs": [],
   "source": [
    "import torch\n",
    "\n",
    "device = torch.device(\"cuda\") if torch.cuda.is_available() else torch.device(\"cpu\")\n",
    "model.to(device)"
   ]
  },
  {
   "cell_type": "code",
   "execution_count": null,
   "metadata": {
    "execution": {
     "iopub.status.busy": "2022-06-04T11:42:14.709016Z",
     "iopub.status.idle": "2022-06-04T11:42:14.709512Z",
     "shell.execute_reply": "2022-06-04T11:42:14.709289Z",
     "shell.execute_reply.started": "2022-06-04T11:42:14.709267Z"
    },
    "id": "rnDtIVjawsyG",
    "outputId": "e3790bcf-c6b8-47e9-de09-158256387259"
   },
   "outputs": [],
   "source": [
    "device"
   ]
  },
  {
   "cell_type": "markdown",
   "metadata": {},
   "source": [
    "### Training loop"
   ]
  },
  {
   "cell_type": "code",
   "execution_count": null,
   "metadata": {
    "execution": {
     "iopub.status.busy": "2022-06-04T11:42:14.710989Z",
     "iopub.status.idle": "2022-06-04T11:42:14.711464Z",
     "shell.execute_reply": "2022-06-04T11:42:14.711244Z",
     "shell.execute_reply.started": "2022-06-04T11:42:14.711221Z"
    },
    "id": "QDsaNgnzv02B",
    "outputId": "e0c2a8d2-56f7-41fa-e683-8a6580355b20"
   },
   "outputs": [],
   "source": [
    "from tqdm.auto import tqdm\n",
    "\n",
    "progress_bar = tqdm(range(num_training_steps))\n",
    "\n",
    "model.train()\n",
    "for epoch in range(num_epochs):\n",
    "    for batch in train_dataloader:\n",
    "        batch = {k: v.to(device) for k, v in batch.items()}\n",
    "        outputs = model(**batch)\n",
    "        loss = outputs.loss\n",
    "        loss.backward()\n",
    "\n",
    "        optimizer.step()\n",
    "        lr_scheduler.step()\n",
    "        optimizer.zero_grad()\n",
    "        progress_bar.update(1)"
   ]
  },
  {
   "cell_type": "markdown",
   "metadata": {},
   "source": [
    "### Evaluation on test dataset"
   ]
  },
  {
   "cell_type": "code",
   "execution_count": null,
   "metadata": {
    "execution": {
     "iopub.status.busy": "2022-06-04T11:42:14.712655Z",
     "iopub.status.idle": "2022-06-04T11:42:14.713503Z",
     "shell.execute_reply": "2022-06-04T11:42:14.713266Z",
     "shell.execute_reply.started": "2022-06-04T11:42:14.713241Z"
    },
    "id": "6PTQhgb6v9oq",
    "outputId": "5b071b4d-e0c3-4a1f-d346-06098c3b7da1"
   },
   "outputs": [],
   "source": [
    "from datasets import load_metric\n",
    "metric= load_metric(\"accuracy\")\n",
    "model.eval()\n",
    "for batch in eval_dataloader:\n",
    "    batch = {k: v.to(device) for k, v in batch.items()}\n",
    "    with torch.no_grad():\n",
    "        outputs = model(**batch)\n",
    "\n",
    "    logits = outputs.logits\n",
    "    predictions = torch.argmax(logits, dim=-1)\n",
    "    metric.add_batch(predictions=predictions, references=batch[\"labels\"])\n",
    "\n",
    "metric.compute()"
   ]
  },
  {
   "cell_type": "code",
   "execution_count": null,
   "metadata": {
    "id": "eyYRyTxwzcFu"
   },
   "outputs": [],
   "source": []
  }
 ],
 "metadata": {
  "kernelspec": {
   "display_name": "Python 3 (ipykernel)",
   "language": "python",
   "name": "python3"
  },
  "language_info": {
   "codemirror_mode": {
    "name": "ipython",
    "version": 3
   },
   "file_extension": ".py",
   "mimetype": "text/x-python",
   "name": "python",
   "nbconvert_exporter": "python",
   "pygments_lexer": "ipython3",
   "version": "3.9.7"
  }
 },
 "nbformat": 4,
 "nbformat_minor": 4
}
